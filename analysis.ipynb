{
 "cells": [
  {
   "cell_type": "markdown",
   "metadata": {},
   "source": [
    "# Analysis"
   ]
  },
  {
   "cell_type": "code",
   "execution_count": null,
   "metadata": {},
   "outputs": [],
   "source": [
    "import datetime\n",
    "import random\n",
    "import matplotlib.pyplot as plt\n",
    "%matplotlib inline"
   ]
  },
  {
   "cell_type": "markdown",
   "metadata": {},
   "source": [
    "## Load the Data"
   ]
  },
  {
   "cell_type": "code",
   "execution_count": null,
   "metadata": {},
   "outputs": [],
   "source": [
    "from faces import FaceShard\n",
    "from emotions import EmotionShard\n",
    "from behavior import WindowShard, ScreenShard\n",
    "\n",
    "from mirror import Mirror\n",
    "\n",
    "from config import EMOTIONLOG, WINDOWLOG, SCREENSHOT_DIR, MIRRORLOG, FACE_DIR\n",
    "\n",
    "\n",
    "shards = []\n",
    "shards.append(EmotionShard(logfile=EMOTIONLOG))\n",
    "shards.append(FaceShard(FACE_DIR))\n",
    "shards.append(WindowShard(logfile=WINDOWLOG))\n",
    "shards.append(ScreenShard(logdir=SCREENSHOT_DIR))\n",
    "mirror = Mirror(shards=shards, lens=None, logfile=MIRRORLOG)"
   ]
  },
  {
   "cell_type": "code",
   "execution_count": null,
   "metadata": {
    "scrolled": true
   },
   "outputs": [],
   "source": [
    "states = mirror.remember(from_date=datetime.datetime(year=2020, month=11, day=1))"
   ]
  },
  {
   "cell_type": "markdown",
   "metadata": {},
   "source": [
    "## Have a Look at States with Specific Emotions"
   ]
  },
  {
   "cell_type": "code",
   "execution_count": null,
   "metadata": {},
   "outputs": [],
   "source": [
    "# Let's consider the more interesting ones by filtering\n",
    "\n",
    "emotions = set([state['emotions'][0]['emotion'] for state in states if len(state['emotions'])>0])\n",
    "\n",
    "# Filter by detected emotion\n",
    "ids_by_emotion = {}\n",
    "for emotion in emotions:\n",
    "    ids_by_emotion[emotion] = [state['ID'] for state in states\n",
    "                               if len(state['emotions'])>0 and state['emotions'][0]['emotion']==emotion]\n",
    "    \n",
    "ids_by_emotion.keys()"
   ]
  },
  {
   "cell_type": "code",
   "execution_count": null,
   "metadata": {},
   "outputs": [],
   "source": [
    "emotion = 'anger'\n",
    "\n",
    "ids = sorted(ids_by_emotion[emotion])\n",
    "print(\"%d relevant logs\" % len(ids))\n",
    "\n",
    "state_by_id = {state['ID']: state for state in states}\n",
    "\n",
    "# Find for which IDs we have a capture available\n",
    "ids = [i for i in ids if 'faces' in state_by_id[i] and len(state_by_id[i]['faces'])]\n",
    "print(\"%d relevant logs with captures\" % len(ids))\n",
    "\n",
    "# Find for which IDs we also have a screenshot\n",
    "ids = [i for i in ids if 'screenshot' in state_by_id[i] and state_by_id[i]['screenshot'] is not None]\n",
    "print(\"%d relevant logs with screenshots\" % len(ids))"
   ]
  },
  {
   "cell_type": "code",
   "execution_count": null,
   "metadata": {},
   "outputs": [],
   "source": [
    "id_ = random.choice(ids)\n",
    "print(id_)\n",
    "\n",
    "state = state_by_id[id_]\n",
    "print(\"Detected emotion:\", state['emotions'][0]['emotion'])\n",
    "print(\"Behavior at the time:\", state['active_window'])\n",
    "\n",
    "#plt.figure(figsize=(15,15))\n",
    "#plt.imshow(state['screenshot'][:, :, ::-1])"
   ]
  },
  {
   "cell_type": "markdown",
   "metadata": {},
   "source": [
    "## Display Emotions over Time"
   ]
  },
  {
   "cell_type": "code",
   "execution_count": null,
   "metadata": {},
   "outputs": [],
   "source": [
    "x = []\n",
    "y = []\n",
    "\n",
    "for state in states:\n",
    "    #x.append(id_)\n",
    "    if len(state['emotions'])>0:\n",
    "        x.append(datetime.datetime.fromisoformat(state['timestamp']))\n",
    "        y.append(state['emotions'][0]['emotion'])\n",
    "    \n",
    "plt.plot(x, y, 'b.')"
   ]
  },
  {
   "cell_type": "markdown",
   "metadata": {},
   "source": [
    "## Correlations\n",
    "\n",
    "Let's have a look at the behavior information and see if any terms correlate with any emotions."
   ]
  },
  {
   "cell_type": "code",
   "execution_count": null,
   "metadata": {},
   "outputs": [],
   "source": [
    "emotion = 'neutral'\n",
    "\n",
    "vocab = []\n",
    "vocab_set = set(vocab)\n",
    "X = []\n",
    "Y = []\n",
    "\n",
    "for state in states:\n",
    "    if len(state['emotions'])<1 or 'title' not in  state['active_window']:\n",
    "        continue\n",
    "    \n",
    "    info = state['active_window']['title']\n",
    "    X.append([0]*len(vocab))\n",
    "    \n",
    "    # Simple tokenization\n",
    "    tokens = [t.lower() for t in info.split()]\n",
    "    # Create a bag of words vector\n",
    "    # (This implementation is not efficient at all, but we are dealing with small datasets for now)\n",
    "    for token in tokens:\n",
    "        if token not in vocab_set:\n",
    "            vocab.append(token)\n",
    "            vocab_set.update([token])\n",
    "            X[-1].append(0)\n",
    "        X[-1][vocab.index(token)] += 1\n",
    "    \n",
    "    if state['emotions'][0]['emotion']==emotion:\n",
    "        Y.append(1)\n",
    "    else:\n",
    "        Y.append(0)\n",
    "        \n",
    "for i in range(len(X)):\n",
    "    if len(X[i])<len(vocab):\n",
    "        X[i].extend([0]*(len(vocab)-len(X[i])))\n",
    "        \n",
    "import numpy as np\n",
    "X = np.array(X)\n",
    "Y = np.array(Y)"
   ]
  },
  {
   "cell_type": "code",
   "execution_count": null,
   "metadata": {},
   "outputs": [],
   "source": [
    "correlations = []\n",
    "\n",
    "for ix,token in enumerate(vocab):\n",
    "    correlations.append(np.corrcoef(X[:,ix], Y)[0,1])\n",
    "\n",
    "args = np.argsort(correlations)\n",
    "\n",
    "print(\"Most negatively correlating:\")\n",
    "for pos in args[:10]:\n",
    "    print(\"-\", vocab[pos], correlations[pos])\n",
    "\n",
    "print(\"\\nMost positively correlating:\")\n",
    "for pos in args[::-1][:10]:\n",
    "    print(\"-\", vocab[pos], correlations[pos])"
   ]
  },
  {
   "cell_type": "code",
   "execution_count": null,
   "metadata": {},
   "outputs": [],
   "source": []
  }
 ],
 "metadata": {
  "kernelspec": {
   "display_name": "Python 3",
   "language": "python",
   "name": "python3"
  },
  "language_info": {
   "codemirror_mode": {
    "name": "ipython",
    "version": 3
   },
   "file_extension": ".py",
   "mimetype": "text/x-python",
   "name": "python",
   "nbconvert_exporter": "python",
   "pygments_lexer": "ipython3",
   "version": "3.7.3"
  }
 },
 "nbformat": 4,
 "nbformat_minor": 4
}
