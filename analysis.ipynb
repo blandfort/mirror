{
 "cells": [
  {
   "cell_type": "code",
   "execution_count": 86,
   "metadata": {},
   "outputs": [],
   "source": [
    "# Let us have a log at the log data then\n",
    "from config import *\n",
    "\n",
    "import datetime\n",
    "import json\n",
    "import os\n",
    "import random\n",
    "from PIL import Image\n",
    "\n",
    "\n",
    "def read_emotions(logfile=EMOTIONLOG):\n",
    "    emotions = {}\n",
    "    times = {}\n",
    "    \n",
    "    with open(logfile, 'r') as f:\n",
    "        for line in f:\n",
    "            parts = line.rstrip().split(',', 2)\n",
    "            \n",
    "            if len(parts)<3:\n",
    "                continue\n",
    "                \n",
    "            id_, dt, result = parts\n",
    "            id_ = int(id_)\n",
    "            dt = datetime.datetime.fromisoformat(dt)\n",
    "            times[id_] = dt\n",
    "            \n",
    "            emotion = json.loads(result)[0]['emotion']\n",
    "            emotions[id_] = emotion\n",
    "    return emotions, times\n",
    "    \n",
    "def read_behavior(logfile=BEHAVIORLOG):\n",
    "    behavior = {}\n",
    "    \n",
    "    with open(logfile, 'r') as f:\n",
    "        for line in f:\n",
    "            parts = line.rstrip().split(',', 2)\n",
    "            \n",
    "            if len(parts)<3:\n",
    "                continue\n",
    "                \n",
    "            id_, dt, result = parts\n",
    "            id_ = int(id_)\n",
    "            #dt = datetime.fromisoformat(dt)\n",
    "            behavior[id_] = json.loads(result)\n",
    "    return behavior\n",
    "\n",
    "def read_captures(logdir=CAMSHOT_DIR):\n",
    "    captures = {}\n",
    "    \n",
    "    for filename in os.listdir(logdir):\n",
    "        basename, ext = os.path.splitext(filename)\n",
    "        \n",
    "        if ext.lower() not in ['.jpg', '.png']:\n",
    "            continue\n",
    "        \n",
    "        id_, number = basename.split('_')\n",
    "        id_ = int(id_)\n",
    "        \n",
    "        if int(number)!=0:\n",
    "            continue\n",
    "        img = Image.open(os.path.join(logdir, filename))\n",
    "        captures[id_] = img\n",
    "    return captures\n",
    "\n",
    "def read_screenshots(logdir=SCREENSHOT_DIR):\n",
    "    shots = {}\n",
    "    \n",
    "    for filename in os.listdir(logdir):\n",
    "        basename, ext = os.path.splitext(filename)\n",
    "        \n",
    "        if ext.lower() not in ['.jpg', '.png']:\n",
    "            continue\n",
    "        \n",
    "        id_ = int(basename)\n",
    "        \n",
    "        img = Image.open(os.path.join(logdir, filename))\n",
    "        shots[id_] = img\n",
    "    return shots"
   ]
  },
  {
   "cell_type": "code",
   "execution_count": 87,
   "metadata": {},
   "outputs": [
    {
     "name": "stdout",
     "output_type": "stream",
     "text": [
      "7030 7030 407 167\n"
     ]
    }
   ],
   "source": [
    "behavior = read_behavior()\n",
    "emotions, times = read_emotions()\n",
    "captures = read_captures()\n",
    "screenshots = read_screenshots()\n",
    "\n",
    "print(len(behavior), len(emotions), len(captures), len(screenshots))"
   ]
  },
  {
   "cell_type": "code",
   "execution_count": 29,
   "metadata": {},
   "outputs": [],
   "source": [
    "# Let's consider the more interesting ones by filtering\n",
    "\n",
    "# Filter by detected emotion\n",
    "ids_by_emotion = {}\n",
    "for emotion in set(emotions.values()):\n",
    "    ids_by_emotion[emotion] = [id_ for id_ in emotions.keys() if emotions[id_]==emotion]"
   ]
  },
  {
   "cell_type": "code",
   "execution_count": 30,
   "metadata": {},
   "outputs": [
    {
     "data": {
      "text/plain": [
       "dict_keys(['happiness', 'neutral', 'sadness', 'anger', 'surprise'])"
      ]
     },
     "execution_count": 30,
     "metadata": {},
     "output_type": "execute_result"
    }
   ],
   "source": [
    "ids_by_emotion.keys()"
   ]
  },
  {
   "cell_type": "code",
   "execution_count": 78,
   "metadata": {},
   "outputs": [
    {
     "name": "stdout",
     "output_type": "stream",
     "text": [
      "43 relevant logs\n",
      "43 relevant logs with captures\n",
      "21 relevant logs with screenshots\n"
     ]
    }
   ],
   "source": [
    "emotion = 'happiness'\n",
    "\n",
    "ids = sorted(ids_by_emotion[emotion])\n",
    "print(\"%d relevant logs\" % len(ids))\n",
    "\n",
    "# Find for which IDs we have a capture available\n",
    "ids = [id_ for id_ in ids if id_ in captures.keys()]\n",
    "print(\"%d relevant logs with captures\" % len(ids))\n",
    "\n",
    "# Find for which IDs we also have a screenshot\n",
    "ids = [id_ for id_ in ids if id_ in screenshots.keys()]\n",
    "print(\"%d relevant logs with screenshots\" % len(ids))"
   ]
  },
  {
   "cell_type": "code",
   "execution_count": 88,
   "metadata": {},
   "outputs": [
    {
     "name": "stdout",
     "output_type": "stream",
     "text": [
      "8\n",
      "Detected emotion: happiness\n",
      "Behavior at the time: {'title': 'mirror', 'class': 'dolphin, dolphin'}\n"
     ]
    }
   ],
   "source": [
    "import random\n",
    "\n",
    "#id_ = random.choice(ids)\n",
    "id_ = ids[1]\n",
    "print(id_)\n",
    "\n",
    "print(\"Detected emotion:\", emotions[id_])\n",
    "print(\"Behavior at the time:\", behavior[id_])\n",
    "\n",
    "# Showing the capture\n",
    "#captures[id_]"
   ]
  },
  {
   "cell_type": "code",
   "execution_count": 89,
   "metadata": {},
   "outputs": [],
   "source": [
    "#screenshots[id_]"
   ]
  },
  {
   "cell_type": "code",
   "execution_count": 100,
   "metadata": {},
   "outputs": [
    {
     "data": {
      "text/plain": [
       "[<matplotlib.lines.Line2D at 0x7fb032db2eb8>]"
      ]
     },
     "execution_count": 100,
     "metadata": {},
     "output_type": "execute_result"
    },
    {
     "data": {
      "image/png": "[encoded data removed]",
      "text/plain": [
       "<Figure size 432x288 with 1 Axes>"
      ]
     },
     "metadata": {
      "needs_background": "light"
     },
     "output_type": "display_data"
    }
   ],
   "source": [
    "# Now show emotions over time\n",
    "import matplotlib.pyplot as plt\n",
    "%matplotlib inline\n",
    "\n",
    "x = []\n",
    "y = []\n",
    "\n",
    "for id_ in sorted(list(emotions.keys())):\n",
    "    #x.append(id_)\n",
    "    x.append(times[id_])\n",
    "    y.append(emotions[id_])\n",
    "    \n",
    "plt.plot(x, y, 'b.')"
   ]
  },
  {
   "cell_type": "code",
   "execution_count": null,
   "metadata": {},
   "outputs": [],
   "source": []
  }
 ],
 "metadata": {
  "kernelspec": {
   "display_name": "Python 3",
   "language": "python",
   "name": "python3"
  },
  "language_info": {
   "codemirror_mode": {
    "name": "ipython",
    "version": 3
   },
   "file_extension": ".py",
   "mimetype": "text/x-python",
   "name": "python",
   "nbconvert_exporter": "python",
   "pygments_lexer": "ipython3",
   "version": "3.7.3"
  }
 },
 "nbformat": 4,
 "nbformat_minor": 4
}
