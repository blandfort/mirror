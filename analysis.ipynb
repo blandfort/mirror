{
 "cells": [
  {
   "cell_type": "code",
   "execution_count": 1,
   "metadata": {},
   "outputs": [],
   "source": [
    "from faces import FaceShard\n",
    "from emotions import EmotionShard\n",
    "from behavior import WindowShard, ScreenShard\n",
    "\n",
    "from mirror import Mirror\n",
    "\n",
    "from config import EMOTIONLOG, WINDOWLOG, SCREENSHOT_DIR, MIRRORLOG, FACE_DIR\n",
    "\n",
    "\n",
    "shards = [FaceShard(FACE_DIR), EmotionShard(logfile=EMOTIONLOG)]\n",
    "shards.append(WindowShard(logfile=WINDOWLOG))\n",
    "shards.append(ScreenShard(logdir=SCREENSHOT_DIR))\n",
    "mirror = Mirror(shards=shards, lens=None, logfile=MIRRORLOG)"
   ]
  },
  {
   "cell_type": "code",
   "execution_count": null,
   "metadata": {},
   "outputs": [],
   "source": [
    "states = mirror.remember()"
   ]
  },
  {
   "cell_type": "code",
   "execution_count": 5,
   "metadata": {},
   "outputs": [
    {
     "data": {
      "text/plain": [
       "dict_keys(['neutral', 'surprise', 'happiness'])"
      ]
     },
     "execution_count": 5,
     "metadata": {},
     "output_type": "execute_result"
    }
   ],
   "source": [
    "# Let's consider the more interesting ones by filtering\n",
    "\n",
    "emotions = set([state['emotions'][0]['emotion'] for state in states if len(state['emotions'])>0])\n",
    "\n",
    "# Filter by detected emotion\n",
    "ids_by_emotion = {}\n",
    "for emotion in emotions:\n",
    "    ids_by_emotion[emotion] = [state['ID'] for state in states\n",
    "                               if len(state['emotions'])>0 and state['emotions'][0]['emotion']==emotion]\n",
    "    \n",
    "ids_by_emotion.keys()"
   ]
  },
  {
   "cell_type": "code",
   "execution_count": 9,
   "metadata": {},
   "outputs": [
    {
     "name": "stdout",
     "output_type": "stream",
     "text": [
      "7 relevant logs\n",
      "1 relevant logs with screenshots\n"
     ]
    }
   ],
   "source": [
    "emotion = 'surprise'\n",
    "\n",
    "ids = sorted(ids_by_emotion[emotion])\n",
    "print(\"%d relevant logs\" % len(ids))\n",
    "\n",
    "state_by_id = {state['ID']: state for state in states}\n",
    "\n",
    "# Find for which IDs we have a capture available\n",
    "ids = [i for i in ids if 'faces' in state_by_id[i] and state_by_id[i]['faces'] is not None]\n",
    "print(\"%d relevant logs with captures\" % len(ids))\n",
    "\n",
    "# Find for which IDs we also have a screenshot\n",
    "ids = [i for i in ids if 'screenshot' in state_by_id[i] and state_by_id[i]['screenshot'] is not None]\n",
    "print(\"%d relevant logs with screenshots\" % len(ids))"
   ]
  },
  {
   "cell_type": "code",
   "execution_count": 13,
   "metadata": {},
   "outputs": [
    {
     "name": "stdout",
     "output_type": "stream",
     "text": [
      "228\n",
      "Detected emotion: surprise\n",
      "Behavior at the time: {'title': 'mirror : python', 'class': 'konsole, konsole'}\n"
     ]
    }
   ],
   "source": [
    "import random\n",
    "\n",
    "id_ = random.choice(ids)\n",
    "print(id_)\n",
    "\n",
    "state = state_by_id[id_]\n",
    "print(\"Detected emotion:\", state['emotions'][0]['emotion'])\n",
    "print(\"Behavior at the time:\", state['active_window'])\n",
    "\n",
    "#state['screenshot']"
   ]
  },
  {
   "cell_type": "code",
   "execution_count": 18,
   "metadata": {},
   "outputs": [
    {
     "data": {
      "text/plain": [
       "[<matplotlib.lines.Line2D at 0x7f7fb3e7beb8>]"
      ]
     },
     "execution_count": 18,
     "metadata": {},
     "output_type": "execute_result"
    },
    {
     "data": {
      "image/png": "[encoded data removed]",
      "text/plain": [
       "<Figure size 432x288 with 1 Axes>"
      ]
     },
     "metadata": {
      "needs_background": "light"
     },
     "output_type": "display_data"
    }
   ],
   "source": [
    "# Now show emotions over time\n",
    "import matplotlib.pyplot as plt\n",
    "%matplotlib inline\n",
    "\n",
    "x = []\n",
    "y = []\n",
    "\n",
    "for state in states:\n",
    "    #x.append(id_)\n",
    "    if len(state['emotions'])>0:\n",
    "        x.append(state['timestamp'])\n",
    "        y.append(state['emotions'][0]['emotion'])\n",
    "    \n",
    "plt.plot(x, y, 'b.')"
   ]
  },
  {
   "cell_type": "code",
   "execution_count": null,
   "metadata": {},
   "outputs": [],
   "source": []
  }
 ],
 "metadata": {
  "kernelspec": {
   "display_name": "Python 3",
   "language": "python",
   "name": "python3"
  },
  "language_info": {
   "codemirror_mode": {
    "name": "ipython",
    "version": 3
   },
   "file_extension": ".py",
   "mimetype": "text/x-python",
   "name": "python",
   "nbconvert_exporter": "python",
   "pygments_lexer": "ipython3",
   "version": "3.7.3"
  }
 },
 "nbformat": 4,
 "nbformat_minor": 4
}
